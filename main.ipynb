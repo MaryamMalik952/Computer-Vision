{
 "cells": [
  {
   "cell_type": "markdown",
   "metadata": {},
   "source": [
    "# Installing Libraries"
   ]
  },
  {
   "cell_type": "code",
   "execution_count": 1,
   "metadata": {},
   "outputs": [
    {
     "name": "stdout",
     "output_type": "stream",
     "text": [
      "Requirement already satisfied: matplotlib in c:\\programdata\\anaconda3\\lib\\site-packages (3.2.2)\n",
      "Requirement already satisfied: scikit-image in c:\\programdata\\anaconda3\\lib\\site-packages (0.16.2)\n",
      "Collecting opencv-python\n",
      "  Downloading opencv_python-4.6.0.66-cp36-abi3-win_amd64.whl (35.6 MB)\n",
      "Requirement already satisfied: pyparsing!=2.0.4,!=2.1.2,!=2.1.6,>=2.0.1 in c:\\programdata\\anaconda3\\lib\\site-packages (from matplotlib) (2.4.7)\n",
      "Requirement already satisfied: python-dateutil>=2.1 in c:\\programdata\\anaconda3\\lib\\site-packages (from matplotlib) (2.8.1)\n",
      "Requirement already satisfied: numpy>=1.11 in c:\\programdata\\anaconda3\\lib\\site-packages (from matplotlib) (1.18.5)\n",
      "Requirement already satisfied: cycler>=0.10 in c:\\programdata\\anaconda3\\lib\\site-packages (from matplotlib) (0.10.0)\n",
      "Requirement already satisfied: kiwisolver>=1.0.1 in c:\\programdata\\anaconda3\\lib\\site-packages (from matplotlib) (1.2.0)\n",
      "Requirement already satisfied: pillow>=4.3.0 in c:\\programdata\\anaconda3\\lib\\site-packages (from scikit-image) (7.2.0)\n",
      "Requirement already satisfied: imageio>=2.3.0 in c:\\programdata\\anaconda3\\lib\\site-packages (from scikit-image) (2.9.0)\n",
      "Requirement already satisfied: PyWavelets>=0.4.0 in c:\\programdata\\anaconda3\\lib\\site-packages (from scikit-image) (1.1.1)\n",
      "Requirement already satisfied: scipy>=0.19.0 in c:\\programdata\\anaconda3\\lib\\site-packages (from scikit-image) (1.5.0)\n",
      "Requirement already satisfied: networkx>=2.0 in c:\\programdata\\anaconda3\\lib\\site-packages (from scikit-image) (2.4)\n",
      "Requirement already satisfied: six>=1.5 in c:\\programdata\\anaconda3\\lib\\site-packages (from python-dateutil>=2.1->matplotlib) (1.15.0)\n",
      "Requirement already satisfied: decorator>=4.3.0 in c:\\programdata\\anaconda3\\lib\\site-packages (from networkx>=2.0->scikit-image) (4.4.2)\n",
      "Installing collected packages: opencv-python\n",
      "Successfully installed opencv-python-4.6.0.66\n"
     ]
    }
   ],
   "source": [
    "# installing cv2\n",
    "! pip install matplotlib scikit-image opencv-python"
   ]
  },
  {
   "cell_type": "markdown",
   "metadata": {},
   "source": [
    "# Importing Libraries"
   ]
  },
  {
   "cell_type": "code",
   "execution_count": 207,
   "metadata": {},
   "outputs": [],
   "source": [
    "import cv2\n",
    "import numpy as np\n",
    "from matplotlib import pyplot as plt\n",
    "from os import listdir\n",
    "from skimage import feature\n",
    "from skimage import exposure\n",
    "from sklearn.cluster import MiniBatchKMeans\n",
    "from tqdm.notebook import tqdm\n"
   ]
  },
  {
   "cell_type": "markdown",
   "metadata": {},
   "source": [
    "# Data Loading"
   ]
  },
  {
   "cell_type": "code",
   "execution_count": 16,
   "metadata": {},
   "outputs": [],
   "source": [
    "#Parameter\n",
    "SIZE = 32\n",
    "CLASS_NUMBER = 10\n",
    "\n",
    "def load_traffic_dataset():\n",
    "    dataset = []\n",
    "    labels = []\n",
    "    for sign_type in range(CLASS_NUMBER):\n",
    "        sign_list = listdir(\"./dataset/{}\".format(sign_type))\n",
    "        for sign_file in sign_list:\n",
    "            if '.ppm' in sign_file:\n",
    "                path = \"./dataset/{}/{}\".format(sign_type,sign_file)\n",
    "                print(path)\n",
    "                img = cv2.imread(path,0)\n",
    "                img = cv2.resize(img, (SIZE, SIZE))\n",
    "                img = np.reshape(img, [SIZE, SIZE])\n",
    "                dataset.append(img)\n",
    "                labels.append(sign_type)\n",
    "    return np.array(dataset), np.array(labels)"
   ]
  },
  {
   "cell_type": "code",
   "execution_count": 17,
   "metadata": {},
   "outputs": [
    {
     "name": "stdout",
     "output_type": "stream",
     "text": [
      "./dataset/0/00022_00000.ppm\n",
      "./dataset/0/00022_00001.ppm\n",
      "./dataset/0/00022_00002.ppm\n",
      "./dataset/0/00030_00000.ppm\n",
      "./dataset/0/00030_00001.ppm\n",
      "./dataset/0/00448_00000.ppm\n",
      "./dataset/0/00448_00001.ppm\n",
      "./dataset/0/00448_00002.ppm\n",
      "./dataset/0/00452_00000.ppm\n",
      "./dataset/0/00452_00002.ppm\n",
      "./dataset/0/00460_00000.ppm\n",
      "./dataset/0/00460_00001.ppm\n",
      "./dataset/0/00460_00002.ppm\n",
      "./dataset/0/00464_00000.ppm\n",
      "./dataset/0/00464_00001.ppm\n",
      "./dataset/0/00464_00002.ppm\n",
      "./dataset/0/00479_00000.ppm\n",
      "./dataset/0/00479_00001.ppm\n",
      "./dataset/0/00525_00000.ppm\n",
      "./dataset/0/00525_00001.ppm\n",
      "./dataset/0/00525_00002.ppm\n",
      "./dataset/0/00530_00000.ppm\n",
      "./dataset/0/00530_00001.ppm\n",
      "./dataset/0/00530_00002.ppm\n",
      "./dataset/0/00543_00000.ppm\n",
      "./dataset/0/00543_00001.ppm\n",
      "./dataset/0/00543_00002.ppm\n",
      "./dataset/0/00708_00001.ppm\n",
      "./dataset/0/00708_00002.ppm\n",
      "./dataset/0/00711_00000.ppm\n",
      "./dataset/0/00711_00001.ppm\n",
      "./dataset/0/00711_00002.ppm\n",
      "./dataset/0/00731_00000.ppm\n",
      "./dataset/0/00731_00001.ppm\n",
      "./dataset/0/00731_00002.ppm\n",
      "./dataset/0/00744_00000.ppm\n",
      "./dataset/0/00744_00002.ppm\n",
      "./dataset/0/00765_00000.ppm\n",
      "./dataset/0/00765_00001.ppm\n",
      "./dataset/0/00765_00002.ppm\n",
      "./dataset/0/00767_00000.ppm\n",
      "./dataset/0/00767_00001.ppm\n",
      "./dataset/0/00767_00002.ppm\n",
      "./dataset/0/00797_00000.ppm\n",
      "./dataset/0/00797_00001.ppm\n",
      "./dataset/0/00817_00001.ppm\n",
      "./dataset/0/00817_00002.ppm\n",
      "./dataset/0/00819_00000.ppm\n",
      "./dataset/0/00819_00001.ppm\n",
      "./dataset/0/00826_00000.ppm\n",
      "./dataset/0/00826_00001.ppm\n",
      "./dataset/0/00826_00002.ppm\n",
      "./dataset/0/00829_00002.ppm\n",
      "./dataset/0/00853_00000.ppm\n",
      "./dataset/0/00853_00001.ppm\n",
      "./dataset/0/00853_00002.ppm\n",
      "./dataset/0/00862_00000.ppm\n",
      "./dataset/0/00862_00001.ppm\n",
      "./dataset/0/00863_00000.ppm\n",
      "./dataset/0/00913_00000.ppm\n",
      "./dataset/0/00913_00001.ppm\n",
      "./dataset/0/00990_00000.ppm\n",
      "./dataset/0/00990_00001.ppm\n",
      "./dataset/0/00990_00002.ppm\n",
      "./dataset/0/00993_00000.ppm\n",
      "./dataset/0/00993_00001.ppm\n",
      "./dataset/0/00993_00002.ppm\n",
      "./dataset/0/00997_00000.ppm\n",
      "./dataset/0/00997_00001.ppm\n",
      "./dataset/0/00997_00002.ppm\n",
      "./dataset/0/01025_00001.ppm\n",
      "./dataset/0/01025_00002.ppm\n",
      "./dataset/0/01027_00000.ppm\n",
      "./dataset/0/01027_00001.ppm\n",
      "./dataset/0/01027_00002.ppm\n",
      "./dataset/0/01177_00000.ppm\n",
      "./dataset/0/01178_00001.ppm\n",
      "./dataset/0/01179_00000.ppm\n",
      "./dataset/0/01179_00001.ppm\n",
      "./dataset/0/01297_00000.ppm\n",
      "./dataset/0/01297_00001.ppm\n",
      "./dataset/0/01297_00002.ppm\n",
      "./dataset/0/01333_00000.ppm\n",
      "./dataset/0/01412_00001.ppm\n",
      "./dataset/0/01795_00001.ppm\n",
      "./dataset/0/01795_00002.ppm\n",
      "./dataset/0/01819_00000.ppm\n",
      "./dataset/0/01819_00001.ppm\n",
      "./dataset/0/01819_00002.ppm\n",
      "./dataset/0/01821_00000.ppm\n",
      "./dataset/0/01821_00001.ppm\n",
      "./dataset/0/01821_00002.ppm\n",
      "./dataset/0/01822_00000.ppm\n",
      "./dataset/0/01822_00002.ppm\n",
      "./dataset/0/01825_00000.ppm\n",
      "./dataset/0/01826_00000.ppm\n",
      "./dataset/0/01826_00002.ppm\n",
      "./dataset/0/01827_00000.ppm\n",
      "./dataset/0/01827_00001.ppm\n",
      "./dataset/0/01827_00002.ppm\n",
      "./dataset/1/00025_00000.ppm\n",
      "./dataset/1/00025_00001.ppm\n",
      "./dataset/1/00025_00002.ppm\n",
      "./dataset/1/00029_00000.ppm\n",
      "./dataset/1/00029_00001.ppm\n",
      "./dataset/1/00029_00002.ppm\n",
      "./dataset/1/00079_00000.ppm\n",
      "./dataset/1/00079_00001.ppm\n",
      "./dataset/1/00079_00002.ppm\n",
      "./dataset/1/00136_00000.ppm\n",
      "./dataset/1/00136_00001.ppm\n",
      "./dataset/1/00136_00002.ppm\n",
      "./dataset/1/00143_00000.ppm\n",
      "./dataset/1/00143_00001.ppm\n",
      "./dataset/1/00143_00002.ppm\n",
      "./dataset/1/00455_00000.ppm\n",
      "./dataset/1/00455_00001.ppm\n",
      "./dataset/1/00455_00002.ppm\n",
      "./dataset/1/00468_00000.ppm\n",
      "./dataset/1/00468_00001.ppm\n",
      "./dataset/1/00468_00002.ppm\n",
      "./dataset/1/00475_00000.ppm\n",
      "./dataset/1/00475_00001.ppm\n",
      "./dataset/1/00475_00002.ppm\n",
      "./dataset/1/00801_00000.ppm\n",
      "./dataset/1/00801_00001.ppm\n",
      "./dataset/1/00801_00002.ppm\n",
      "./dataset/1/00806_00000.ppm\n",
      "./dataset/1/00806_00001.ppm\n",
      "./dataset/1/00806_00002.ppm\n",
      "./dataset/1/00874_00000.ppm\n",
      "./dataset/1/00874_00001.ppm\n",
      "./dataset/1/00874_00002.ppm\n",
      "./dataset/1/00876_00000.ppm\n",
      "./dataset/1/00876_00001.ppm\n",
      "./dataset/1/00876_00002.ppm\n",
      "./dataset/1/00877_00000.ppm\n",
      "./dataset/1/00877_00001.ppm\n",
      "./dataset/1/00877_00002.ppm\n",
      "./dataset/1/00881_00000.ppm\n",
      "./dataset/1/00881_00001.ppm\n",
      "./dataset/1/00881_00002.ppm\n",
      "./dataset/1/00897_00000.ppm\n",
      "./dataset/1/00897_00001.ppm\n",
      "./dataset/1/00897_00002.ppm\n",
      "./dataset/1/00900_00000.ppm\n",
      "./dataset/1/00900_00001.ppm\n",
      "./dataset/1/00900_00002.ppm\n",
      "./dataset/1/00920_00000.ppm\n",
      "./dataset/1/00920_00001.ppm\n",
      "./dataset/1/00920_00002.ppm\n",
      "./dataset/1/00921_00000.ppm\n",
      "./dataset/1/00921_00001.ppm\n",
      "./dataset/1/00933_00000.ppm\n",
      "./dataset/1/00933_00001.ppm\n",
      "./dataset/1/00933_00002.ppm\n",
      "./dataset/1/00941_00000.ppm\n",
      "./dataset/1/00941_00001.ppm\n",
      "./dataset/1/00941_00002.ppm\n",
      "./dataset/1/00947_00000.ppm\n",
      "./dataset/1/00947_00001.ppm\n",
      "./dataset/1/00947_00002.ppm\n",
      "./dataset/1/00965_00000.ppm\n",
      "./dataset/1/00965_00001.ppm\n",
      "./dataset/1/00965_00002.ppm\n",
      "./dataset/1/01028_00000.ppm\n",
      "./dataset/1/01028_00001.ppm\n",
      "./dataset/1/01028_00002.ppm\n",
      "./dataset/1/01103_00000.ppm\n",
      "./dataset/1/01103_00001.ppm\n",
      "./dataset/1/01103_00002.ppm\n",
      "./dataset/1/01114_00000.ppm\n",
      "./dataset/1/01114_00001.ppm\n",
      "./dataset/1/01114_00002.ppm\n",
      "./dataset/1/01278_00000.ppm\n",
      "./dataset/1/01278_00001.ppm\n",
      "./dataset/1/01278_00002.ppm\n",
      "./dataset/1/01556_00000.ppm\n",
      "./dataset/1/01556_00001.ppm\n",
      "./dataset/1/01556_00002.ppm\n",
      "./dataset/1/01584_00000.ppm\n",
      "./dataset/1/01584_00001.ppm\n",
      "./dataset/1/01584_00002.ppm\n",
      "./dataset/1/01585_00000.ppm\n",
      "./dataset/1/01585_00001.ppm\n",
      "./dataset/1/01585_00002.ppm\n",
      "./dataset/1/01590_00000.ppm\n",
      "./dataset/1/01590_00001.ppm\n",
      "./dataset/1/01590_00002.ppm\n",
      "./dataset/1/01651_00000.ppm\n",
      "./dataset/1/01651_00001.ppm\n",
      "./dataset/1/01651_00002.ppm\n",
      "./dataset/1/01662_00000.ppm\n",
      "./dataset/1/01662_00001.ppm\n",
      "./dataset/1/01662_00002.ppm\n",
      "./dataset/1/01681_00000.ppm\n",
      "./dataset/1/01681_00001.ppm\n",
      "./dataset/1/01681_00002.ppm\n",
      "./dataset/1/01699_00000.ppm\n",
      "./dataset/1/01699_00001.ppm\n",
      "./dataset/2/00001_00000.ppm\n",
      "./dataset/2/00001_00001.ppm\n",
      "./dataset/2/00001_00002.ppm\n",
      "./dataset/2/00018_00000.ppm\n",
      "./dataset/2/00018_00001.ppm\n",
      "./dataset/2/00018_00002.ppm\n",
      "./dataset/2/00028_00000.ppm\n",
      "./dataset/2/00028_00001.ppm\n",
      "./dataset/2/00028_00002.ppm\n",
      "./dataset/2/00192_00000.ppm\n",
      "./dataset/2/00192_00001.ppm\n",
      "./dataset/2/00192_00002.ppm\n",
      "./dataset/2/00927_00000.ppm\n",
      "./dataset/2/00927_00001.ppm\n",
      "./dataset/2/00927_00002.ppm\n",
      "./dataset/2/00928_00000.ppm\n",
      "./dataset/2/00928_00001.ppm\n",
      "./dataset/2/00928_00002.ppm\n",
      "./dataset/2/00930_00000.ppm\n",
      "./dataset/2/00930_00001.ppm\n",
      "./dataset/2/00931_00001.ppm\n",
      "./dataset/2/00937_00001.ppm\n",
      "./dataset/2/00937_00002.ppm\n",
      "./dataset/2/00937_00003.ppm\n",
      "./dataset/2/00938_00000.ppm\n",
      "./dataset/2/00943_00001.ppm\n",
      "./dataset/2/00945_00000.ppm\n",
      "./dataset/2/00945_00001.ppm\n",
      "./dataset/2/00945_00002.ppm\n",
      "./dataset/2/00957_00002.ppm\n",
      "./dataset/2/00959_00000.ppm\n",
      "./dataset/2/00959_00001.ppm\n",
      "./dataset/2/00959_00002.ppm\n",
      "./dataset/2/01002_00002.ppm\n",
      "./dataset/2/01003_00000.ppm\n",
      "./dataset/2/01003_00001.ppm\n",
      "./dataset/2/01003_00002.ppm\n",
      "./dataset/2/01013_00000.ppm\n",
      "./dataset/2/01013_00001.ppm\n",
      "./dataset/2/01013_00002.ppm\n",
      "./dataset/2/01102_00002.ppm\n",
      "./dataset/2/01108_00000.ppm\n",
      "./dataset/2/01108_00001.ppm\n",
      "./dataset/2/01108_00002.ppm\n",
      "./dataset/2/01109_00002.ppm\n",
      "./dataset/2/01111_00000.ppm\n",
      "./dataset/2/01111_00001.ppm\n",
      "./dataset/2/01112_00000.ppm\n",
      "./dataset/2/01232_00002.ppm\n",
      "./dataset/2/01237_00000.ppm\n",
      "./dataset/2/01237_00001.ppm\n",
      "./dataset/2/01237_00002.ppm\n",
      "./dataset/2/01238_00002.ppm\n",
      "./dataset/2/01243_00000.ppm\n",
      "./dataset/2/01243_00001.ppm\n",
      "./dataset/2/01243_00002.ppm\n",
      "./dataset/2/01244_00002.ppm\n",
      "./dataset/2/01248_00000.ppm\n",
      "./dataset/2/01248_00001.ppm\n",
      "./dataset/2/01248_00002.ppm\n",
      "./dataset/2/01249_00002.ppm\n",
      "./dataset/2/01253_00000.ppm\n",
      "./dataset/2/01253_00001.ppm\n",
      "./dataset/2/01253_00002.ppm\n",
      "./dataset/2/01254_00001.ppm\n",
      "./dataset/2/01254_00002.ppm\n",
      "./dataset/2/01262_00000.ppm\n",
      "./dataset/2/01262_00001.ppm\n",
      "./dataset/2/01263_00001.ppm\n",
      "./dataset/2/01263_00002.ppm\n",
      "./dataset/2/01269_00000.ppm\n",
      "./dataset/2/01269_00001.ppm\n",
      "./dataset/2/01275_00000.ppm\n",
      "./dataset/2/01275_00001.ppm\n",
      "./dataset/2/01275_00002.ppm\n",
      "./dataset/2/01276_00000.ppm\n",
      "./dataset/2/01502_00002.ppm\n",
      "./dataset/2/01504_00000.ppm\n",
      "./dataset/2/01511_00002.ppm\n",
      "./dataset/2/01514_00000.ppm\n",
      "./dataset/2/01519_00002.ppm\n",
      "./dataset/2/01524_00001.ppm\n",
      "./dataset/2/01525_00002.ppm\n",
      "./dataset/2/01526_00000.ppm\n",
      "./dataset/2/01528_00002.ppm\n",
      "./dataset/2/01536_00000.ppm\n",
      "./dataset/2/01536_00001.ppm\n",
      "./dataset/2/01536_00002.ppm\n",
      "./dataset/2/01588_00001.ppm\n",
      "./dataset/2/01588_00002.ppm\n",
      "./dataset/2/01713_00001.ppm\n",
      "./dataset/2/01915_00000.ppm\n",
      "./dataset/2/01915_00001.ppm\n",
      "./dataset/2/01915_00002.ppm\n",
      "./dataset/2/01916_00000.ppm\n",
      "./dataset/2/01955_00002.ppm\n",
      "./dataset/2/01956_00000.ppm\n",
      "./dataset/2/01958_00000.ppm\n",
      "./dataset/2/01958_00001.ppm\n",
      "./dataset/2/01958_00002.ppm\n",
      "./dataset/3/00173_00000.ppm\n",
      "./dataset/3/00173_00001.ppm\n",
      "./dataset/3/00173_00002.ppm\n",
      "./dataset/3/00224_00000.ppm\n",
      "./dataset/3/00224_00001.ppm\n",
      "./dataset/3/00224_00002.ppm\n",
      "./dataset/3/00361_00000.ppm\n",
      "./dataset/3/00361_00001.ppm\n",
      "./dataset/3/00361_00002.ppm\n",
      "./dataset/3/00372_00000.ppm\n",
      "./dataset/3/00372_00001.ppm\n",
      "./dataset/3/00372_00002.ppm\n",
      "./dataset/3/00377_00000.ppm\n",
      "./dataset/3/00421_00000.ppm\n",
      "./dataset/3/00421_00001.ppm\n",
      "./dataset/3/00421_00002.ppm\n",
      "./dataset/3/00549_00000.ppm\n",
      "./dataset/3/00549_00001.ppm\n",
      "./dataset/3/00549_00002.ppm\n",
      "./dataset/3/00553_00000.ppm\n",
      "./dataset/3/00553_00001.ppm\n",
      "./dataset/3/00553_00002.ppm\n",
      "./dataset/3/00559_00000.ppm\n",
      "./dataset/3/00559_00001.ppm\n",
      "./dataset/3/00559_00002.ppm\n",
      "./dataset/3/00569_00000.ppm\n",
      "./dataset/3/00569_00001.ppm\n",
      "./dataset/3/00569_00002.ppm\n",
      "./dataset/3/00578_00000.ppm\n",
      "./dataset/3/00578_00001.ppm\n",
      "./dataset/3/00578_00002.ppm\n",
      "./dataset/3/00619_00000.ppm\n",
      "./dataset/3/00619_00001.ppm\n",
      "./dataset/3/00619_00002.ppm\n",
      "./dataset/3/00653_00000.ppm\n",
      "./dataset/3/00653_00001.ppm\n",
      "./dataset/3/00653_00002.ppm\n",
      "./dataset/3/00758_00000.ppm\n",
      "./dataset/3/00758_00001.ppm\n",
      "./dataset/3/00758_00002.ppm\n",
      "./dataset/3/00762_00000.ppm\n",
      "./dataset/3/00762_00001.ppm\n",
      "./dataset/3/00762_00002.ppm\n",
      "./dataset/3/01529_00000.ppm\n",
      "./dataset/3/01529_00001.ppm\n",
      "./dataset/3/01529_00002.ppm\n",
      "./dataset/3/01744_00000.ppm\n",
      "./dataset/3/01763_00000.ppm\n",
      "./dataset/3/01763_00001.ppm\n",
      "./dataset/3/01763_00002.ppm\n",
      "./dataset/3/01764_00000.ppm\n",
      "./dataset/3/01764_00001.ppm\n",
      "./dataset/3/01764_00002.ppm\n",
      "./dataset/3/01773_00000.ppm\n",
      "./dataset/3/01773_00001.ppm\n",
      "./dataset/3/01773_00002.ppm\n",
      "./dataset/3/01775_00000.ppm\n",
      "./dataset/3/01775_00001.ppm\n",
      "./dataset/3/01775_00002.ppm\n",
      "./dataset/3/01807_00000.ppm\n",
      "./dataset/3/01807_00001.ppm\n",
      "./dataset/3/01807_00002.ppm\n",
      "./dataset/3/01815_00000.ppm\n",
      "./dataset/3/01815_00001.ppm\n",
      "./dataset/3/01815_00002.ppm\n",
      "./dataset/3/01816_00000.ppm\n",
      "./dataset/3/01816_00001.ppm\n",
      "./dataset/3/01816_00002.ppm\n",
      "./dataset/3/01817_00000.ppm\n",
      "./dataset/3/01817_00001.ppm\n",
      "./dataset/3/01817_00002.ppm\n",
      "./dataset/3/01818_00000.ppm\n",
      "./dataset/3/01818_00001.ppm\n",
      "./dataset/3/01818_00002.ppm\n",
      "./dataset/3/01820_00000.ppm\n",
      "./dataset/3/01820_00001.ppm\n",
      "./dataset/3/01820_00002.ppm\n",
      "./dataset/3/01823_00000.ppm\n",
      "./dataset/3/01823_00001.ppm\n",
      "./dataset/3/01823_00002.ppm\n",
      "./dataset/3/01824_00000.ppm\n",
      "./dataset/3/01824_00001.ppm\n",
      "./dataset/3/01828_00000.ppm\n",
      "./dataset/3/01828_00001.ppm\n",
      "./dataset/3/01828_00002.ppm\n",
      "./dataset/3/01846_00000.ppm\n",
      "./dataset/3/01846_00001.ppm\n",
      "./dataset/3/01846_00002.ppm\n",
      "./dataset/3/01847_00000.ppm\n",
      "./dataset/3/01847_00001.ppm\n",
      "./dataset/3/01847_00002.ppm\n",
      "./dataset/3/01848_00000.ppm\n",
      "./dataset/3/01848_00001.ppm\n",
      "./dataset/3/01848_00002.ppm\n",
      "./dataset/3/01849_00000.ppm\n",
      "./dataset/3/01849_00001.ppm\n",
      "./dataset/3/01849_00002.ppm\n",
      "./dataset/3/01852_00000.ppm\n",
      "./dataset/3/01852_00001.ppm\n",
      "./dataset/3/01852_00002.ppm\n",
      "./dataset/4/00132_00000.ppm\n",
      "./dataset/4/00132_00001.ppm\n",
      "./dataset/4/00132_00002.ppm\n",
      "./dataset/4/00295_00000.ppm\n",
      "./dataset/4/00305_00000.ppm\n",
      "./dataset/4/00305_00001.ppm\n",
      "./dataset/4/00305_00002.ppm\n",
      "./dataset/4/00689_00000.ppm\n",
      "./dataset/4/00689_00001.ppm\n",
      "./dataset/4/00689_00002.ppm\n",
      "./dataset/4/00689_00003.ppm\n",
      "./dataset/4/00719_00000.ppm\n",
      "./dataset/4/00719_00001.ppm\n",
      "./dataset/4/00719_00002.ppm\n",
      "./dataset/4/00736_00000.ppm\n",
      "./dataset/4/00736_00001.ppm\n",
      "./dataset/4/00736_00002.ppm\n",
      "./dataset/4/00769_00000.ppm\n",
      "./dataset/4/00769_00001.ppm\n",
      "./dataset/4/00769_00002.ppm\n",
      "./dataset/4/00770_00000.ppm\n",
      "./dataset/4/00770_00001.ppm\n",
      "./dataset/4/00770_00002.ppm\n",
      "./dataset/4/00781_00000.ppm\n",
      "./dataset/4/00781_00001.ppm\n",
      "./dataset/4/00781_00002.ppm\n",
      "./dataset/4/00987_00000.ppm\n",
      "./dataset/4/00987_00001.ppm\n",
      "./dataset/4/01017_00000.ppm\n",
      "./dataset/4/01017_00001.ppm\n",
      "./dataset/4/01017_00002.ppm\n",
      "./dataset/4/01061_00000.ppm\n",
      "./dataset/4/01061_00002.ppm\n",
      "./dataset/4/01061_00003.ppm\n",
      "./dataset/4/01062_00000.ppm\n",
      "./dataset/4/01062_00001.ppm\n",
      "./dataset/4/01062_00002.ppm\n",
      "./dataset/4/01077_00000.ppm\n",
      "./dataset/4/01077_00001.ppm\n",
      "./dataset/4/01077_00002.ppm\n",
      "./dataset/4/01081_00000.ppm\n",
      "./dataset/4/01081_00001.ppm\n",
      "./dataset/4/01081_00002.ppm\n",
      "./dataset/4/01138_00000.ppm\n",
      "./dataset/4/01138_00001.ppm\n",
      "./dataset/4/01138_00002.ppm\n",
      "./dataset/4/01139_00002.ppm\n",
      "./dataset/4/01152_00000.ppm\n",
      "./dataset/4/01152_00001.ppm\n",
      "./dataset/4/01152_00002.ppm\n",
      "./dataset/4/01159_00000.ppm\n",
      "./dataset/4/01159_00001.ppm\n",
      "./dataset/4/01159_00002.ppm\n",
      "./dataset/4/01186_00000.ppm\n",
      "./dataset/4/01186_00001.ppm\n",
      "./dataset/4/01186_00002.ppm\n",
      "./dataset/4/01189_00000.ppm\n",
      "./dataset/4/01189_00001.ppm\n",
      "./dataset/4/01189_00002.ppm\n",
      "./dataset/4/01195_00000.ppm\n",
      "./dataset/4/01195_00001.ppm\n",
      "./dataset/4/01195_00002.ppm\n",
      "./dataset/4/01393_00000.ppm\n",
      "./dataset/4/01393_00001.ppm\n",
      "./dataset/4/01406_00000.ppm\n",
      "./dataset/4/01406_00001.ppm\n",
      "./dataset/4/01406_00002.ppm\n",
      "./dataset/4/01423_00000.ppm\n",
      "./dataset/4/01423_00001.ppm\n",
      "./dataset/4/01426_00000.ppm\n",
      "./dataset/4/01426_00001.ppm\n",
      "./dataset/4/01433_00000.ppm\n",
      "./dataset/4/01433_00001.ppm\n",
      "./dataset/4/01433_00002.ppm\n",
      "./dataset/4/01485_00002.ppm\n",
      "./dataset/4/01531_00000.ppm\n",
      "./dataset/4/01531_00001.ppm\n",
      "./dataset/4/01531_00002.ppm\n",
      "./dataset/4/01598_00000.ppm\n",
      "./dataset/4/01598_00001.ppm\n",
      "./dataset/4/01598_00002.ppm\n",
      "./dataset/4/01605_00000.ppm\n",
      "./dataset/4/01605_00001.ppm\n",
      "./dataset/4/01653_00000.ppm\n",
      "./dataset/4/01653_00001.ppm\n",
      "./dataset/4/01653_00002.ppm\n",
      "./dataset/4/01700_00000.ppm\n",
      "./dataset/4/01700_00001.ppm\n",
      "./dataset/4/01782_00000.ppm\n",
      "./dataset/4/01782_00001.ppm\n",
      "./dataset/4/01782_00002.ppm\n",
      "./dataset/4/01794_00000.ppm\n",
      "./dataset/4/01794_00001.ppm\n",
      "./dataset/4/01794_00002.ppm\n",
      "./dataset/4/01801_00000.ppm\n",
      "./dataset/4/01801_00001.ppm\n",
      "./dataset/4/01801_00002.ppm\n",
      "./dataset/4/01880_00000.ppm\n",
      "./dataset/4/01880_00001.ppm\n",
      "./dataset/4/01880_00002.ppm\n",
      "./dataset/5/00020_00000.ppm\n",
      "./dataset/5/00020_00001.ppm\n",
      "./dataset/5/00020_00002.ppm\n",
      "./dataset/5/00048_00000.ppm\n",
      "./dataset/5/00048_00001.ppm\n",
      "./dataset/5/00048_00002.ppm\n",
      "./dataset/5/00053_00000.ppm\n",
      "./dataset/5/00053_00001.ppm\n",
      "./dataset/5/00053_00002.ppm\n",
      "./dataset/5/00112_00000.ppm\n",
      "./dataset/5/00112_00001.ppm\n",
      "./dataset/5/00112_00002.ppm\n",
      "./dataset/5/00362_00000.ppm\n",
      "./dataset/5/00362_00001.ppm\n",
      "./dataset/5/00362_00002.ppm\n",
      "./dataset/5/00363_00000.ppm\n",
      "./dataset/5/00363_00001.ppm\n",
      "./dataset/5/00363_00002.ppm\n",
      "./dataset/5/00560_00000.ppm\n",
      "./dataset/5/00560_00001.ppm\n",
      "./dataset/5/00560_00002.ppm\n",
      "./dataset/5/00570_00000.ppm\n",
      "./dataset/5/00570_00001.ppm\n",
      "./dataset/5/00570_00002.ppm\n",
      "./dataset/5/00571_00000.ppm\n",
      "./dataset/5/00571_00001.ppm\n",
      "./dataset/5/00571_00002.ppm\n",
      "./dataset/5/00678_00000.ppm\n",
      "./dataset/5/00678_00001.ppm\n",
      "./dataset/5/00678_00002.ppm\n",
      "./dataset/5/00687_00000.ppm\n",
      "./dataset/5/00687_00001.ppm\n",
      "./dataset/5/00687_00002.ppm\n",
      "./dataset/5/00702_00000.ppm\n",
      "./dataset/5/00702_00001.ppm\n",
      "./dataset/5/00702_00002.ppm\n",
      "./dataset/5/00725_00000.ppm\n",
      "./dataset/5/00725_00001.ppm\n",
      "./dataset/5/00725_00002.ppm\n",
      "./dataset/5/00882_00000.ppm\n",
      "./dataset/5/00882_00001.ppm\n",
      "./dataset/5/00882_00002.ppm\n",
      "./dataset/5/00888_00000.ppm\n",
      "./dataset/5/00888_00001.ppm\n",
      "./dataset/5/00888_00002.ppm\n",
      "./dataset/5/00905_00000.ppm\n",
      "./dataset/5/00905_00001.ppm\n",
      "./dataset/5/00905_00002.ppm\n",
      "./dataset/5/00907_00000.ppm\n",
      "./dataset/5/00907_00001.ppm\n",
      "./dataset/5/00907_00002.ppm\n",
      "./dataset/5/00926_00000.ppm\n",
      "./dataset/5/00926_00001.ppm\n",
      "./dataset/5/00929_00000.ppm\n",
      "./dataset/5/00929_00001.ppm\n",
      "./dataset/5/00929_00002.ppm\n",
      "./dataset/5/00932_00000.ppm\n",
      "./dataset/5/00932_00001.ppm\n",
      "./dataset/5/00932_00002.ppm\n",
      "./dataset/5/00936_00000.ppm\n",
      "./dataset/5/00936_00001.ppm\n",
      "./dataset/5/00936_00002.ppm\n",
      "./dataset/5/00939_00000.ppm\n",
      "./dataset/5/00939_00001.ppm\n",
      "./dataset/5/00939_00002.ppm\n",
      "./dataset/5/01015_00000.ppm\n",
      "./dataset/5/01015_00001.ppm\n",
      "./dataset/5/01015_00002.ppm\n",
      "./dataset/5/01044_00002.ppm\n",
      "./dataset/5/01051_00000.ppm\n",
      "./dataset/5/01051_00001.ppm\n",
      "./dataset/5/01051_00002.ppm\n",
      "./dataset/5/01057_00001.ppm\n",
      "./dataset/5/01099_00001.ppm\n",
      "./dataset/5/01156_00000.ppm\n",
      "./dataset/5/01156_00001.ppm\n",
      "./dataset/5/01156_00002.ppm\n",
      "./dataset/5/01168_00000.ppm\n",
      "./dataset/5/01168_00001.ppm\n",
      "./dataset/5/01168_00002.ppm\n",
      "./dataset/5/01171_00000.ppm\n",
      "./dataset/5/01171_00001.ppm\n",
      "./dataset/5/01171_00002.ppm\n",
      "./dataset/5/01171_00003.ppm\n",
      "./dataset/5/01173_00000.ppm\n",
      "./dataset/5/01173_00001.ppm\n",
      "./dataset/5/01173_00002.ppm\n",
      "./dataset/5/01210_00000.ppm\n",
      "./dataset/5/01210_00001.ppm\n",
      "./dataset/5/01210_00002.ppm\n",
      "./dataset/5/01224_00001.ppm\n",
      "./dataset/5/01224_00002.ppm\n",
      "./dataset/5/01245_00000.ppm\n",
      "./dataset/5/01245_00001.ppm\n",
      "./dataset/5/01245_00002.ppm\n",
      "./dataset/5/01546_00000.ppm\n",
      "./dataset/5/01546_00001.ppm\n",
      "./dataset/5/01550_00001.ppm\n",
      "./dataset/5/01560_00000.ppm\n",
      "./dataset/5/01560_00001.ppm\n",
      "./dataset/6/00006_00000.ppm\n",
      "./dataset/6/00006_00001.ppm\n",
      "./dataset/6/00006_00002.ppm\n",
      "./dataset/6/00056_00000.ppm\n",
      "./dataset/6/00056_00001.ppm\n",
      "./dataset/6/00058_00000.ppm\n",
      "./dataset/6/00058_00002.ppm\n",
      "./dataset/6/00066_00000.ppm\n",
      "./dataset/6/00066_00001.ppm\n",
      "./dataset/6/00066_00002.ppm\n",
      "./dataset/6/00072_00000.ppm\n",
      "./dataset/6/00072_00001.ppm\n",
      "./dataset/6/00096_00000.ppm\n",
      "./dataset/6/00096_00001.ppm\n",
      "./dataset/6/00114_00000.ppm\n",
      "./dataset/6/00114_00001.ppm\n",
      "./dataset/6/00114_00002.ppm\n",
      "./dataset/6/00170_00001.ppm\n",
      "./dataset/6/00170_00002.ppm\n",
      "./dataset/6/00459_00000.ppm\n",
      "./dataset/6/00459_00001.ppm\n",
      "./dataset/6/00854_00000.ppm\n",
      "./dataset/6/00854_00001.ppm\n",
      "./dataset/6/00854_00002.ppm\n",
      "./dataset/6/00916_00000.ppm\n",
      "./dataset/6/00916_00001.ppm\n",
      "./dataset/6/00916_00002.ppm\n",
      "./dataset/6/00923_00001.ppm\n",
      "./dataset/6/00942_00000.ppm\n",
      "./dataset/6/00942_00001.ppm\n",
      "./dataset/6/00960_00000.ppm\n",
      "./dataset/6/00960_00001.ppm\n",
      "./dataset/6/00960_00002.ppm\n",
      "./dataset/6/00980_00002.ppm\n",
      "./dataset/6/00981_00000.ppm\n",
      "./dataset/6/00981_00001.ppm\n",
      "./dataset/6/00981_00002.ppm\n",
      "./dataset/6/00982_00000.ppm\n",
      "./dataset/6/00982_00001.ppm\n",
      "./dataset/6/00982_00002.ppm\n",
      "./dataset/6/00983_00000.ppm\n",
      "./dataset/6/00983_00001.ppm\n",
      "./dataset/6/00983_00002.ppm\n",
      "./dataset/6/01001_00000.ppm\n",
      "./dataset/6/01001_00001.ppm\n",
      "./dataset/6/01001_00002.ppm\n",
      "./dataset/6/01010_00000.ppm\n",
      "./dataset/6/01010_00001.ppm\n",
      "./dataset/6/01010_00002.ppm\n",
      "./dataset/6/01038_00000.ppm\n",
      "./dataset/6/01038_00002.ppm\n",
      "./dataset/6/01039_00000.ppm\n",
      "./dataset/6/01039_00001.ppm\n",
      "./dataset/6/01039_00002.ppm\n",
      "./dataset/6/01101_00000.ppm\n",
      "./dataset/6/01101_00001.ppm\n",
      "./dataset/6/01101_00002.ppm\n",
      "./dataset/6/01106_00000.ppm\n",
      "./dataset/6/01106_00001.ppm\n",
      "./dataset/6/01106_00002.ppm\n",
      "./dataset/6/01190_00000.ppm\n",
      "./dataset/6/01190_00001.ppm\n",
      "./dataset/6/01190_00002.ppm\n",
      "./dataset/6/01207_00000.ppm\n",
      "./dataset/6/01207_00001.ppm\n",
      "./dataset/6/01207_00002.ppm\n",
      "./dataset/6/01209_00000.ppm\n",
      "./dataset/6/01209_00001.ppm\n",
      "./dataset/6/01209_00002.ppm\n",
      "./dataset/6/01212_00000.ppm\n",
      "./dataset/6/01212_00001.ppm\n",
      "./dataset/6/01344_00001.ppm\n",
      "./dataset/6/01344_00002.ppm\n",
      "./dataset/6/01349_00000.ppm\n",
      "./dataset/6/01349_00001.ppm\n",
      "./dataset/6/01349_00002.ppm\n",
      "./dataset/6/01355_00000.ppm\n",
      "./dataset/6/01355_00001.ppm\n",
      "./dataset/6/01355_00002.ppm\n",
      "./dataset/6/01368_00000.ppm\n",
      "./dataset/6/01368_00001.ppm\n",
      "./dataset/6/01368_00002.ppm\n",
      "./dataset/6/01513_00000.ppm\n",
      "./dataset/6/01513_00001.ppm\n",
      "./dataset/6/01513_00002.ppm\n",
      "./dataset/6/01571_00000.ppm\n",
      "./dataset/6/01571_00001.ppm\n",
      "./dataset/6/01571_00002.ppm\n",
      "./dataset/6/01749_00000.ppm\n",
      "./dataset/6/01895_00000.ppm\n",
      "./dataset/6/01895_00001.ppm\n",
      "./dataset/6/01906_00000.ppm\n",
      "./dataset/6/01906_00001.ppm\n",
      "./dataset/6/01906_00002.ppm\n",
      "./dataset/6/01928_00000.ppm\n",
      "./dataset/6/01928_00001.ppm\n",
      "./dataset/6/01928_00002.ppm\n",
      "./dataset/6/01936_00000.ppm\n",
      "./dataset/6/01936_00001.ppm\n",
      "./dataset/6/01936_00002.ppm\n",
      "./dataset/7/00019_00000.ppm\n",
      "./dataset/7/00019_00001.ppm\n",
      "./dataset/7/00019_00002.ppm\n",
      "./dataset/7/00040_00000.ppm\n",
      "./dataset/7/00040_00001.ppm\n",
      "./dataset/7/00040_00002.ppm\n",
      "./dataset/7/00094_00000.ppm\n",
      "./dataset/7/00094_00001.ppm\n",
      "./dataset/7/00094_00002.ppm\n",
      "./dataset/7/00200_00000.ppm\n",
      "./dataset/7/00200_00001.ppm\n",
      "./dataset/7/00200_00002.ppm\n",
      "./dataset/7/00292_00000.ppm\n",
      "./dataset/7/00292_00001.ppm\n",
      "./dataset/7/00292_00002.ppm\n",
      "./dataset/7/00333_00000.ppm\n",
      "./dataset/7/00333_00001.ppm\n",
      "./dataset/7/00333_00002.ppm\n",
      "./dataset/7/00407_00000.ppm\n",
      "./dataset/7/00407_00001.ppm\n",
      "./dataset/7/00407_00002.ppm\n",
      "./dataset/7/00517_00000.ppm\n",
      "./dataset/7/00517_00001.ppm\n",
      "./dataset/7/00517_00002.ppm\n",
      "./dataset/7/00589_00000.ppm\n",
      "./dataset/7/00589_00001.ppm\n",
      "./dataset/7/00589_00002.ppm\n",
      "./dataset/7/00589_00008.ppm\n",
      "./dataset/7/00589_00009.ppm\n",
      "./dataset/7/00642_00000.ppm\n",
      "./dataset/7/00642_00001.ppm\n",
      "./dataset/7/00642_00002.ppm\n",
      "./dataset/7/00662_00000.ppm\n",
      "./dataset/7/00662_00001.ppm\n",
      "./dataset/7/00662_00002.ppm\n",
      "./dataset/7/00663_00000.ppm\n",
      "./dataset/7/00663_00001.ppm\n",
      "./dataset/7/00663_00002.ppm\n",
      "./dataset/7/00779_00000.ppm\n",
      "./dataset/7/00779_00001.ppm\n",
      "./dataset/7/00779_00002.ppm\n",
      "./dataset/7/00898_00000.ppm\n",
      "./dataset/7/00898_00001.ppm\n",
      "./dataset/7/00898_00002.ppm\n",
      "./dataset/7/01031_00000.ppm\n",
      "./dataset/7/01031_00002.ppm\n",
      "./dataset/7/01035_00000.ppm\n",
      "./dataset/7/01035_00001.ppm\n",
      "./dataset/7/01308_00000.ppm\n",
      "./dataset/7/01308_00001.ppm\n",
      "./dataset/7/01308_00002.ppm\n",
      "./dataset/7/01308_10000.ppm\n",
      "./dataset/7/01357_00000.ppm\n",
      "./dataset/7/01357_00001.ppm\n",
      "./dataset/7/01357_00002.ppm\n",
      "./dataset/7/01358_00000.ppm\n",
      "./dataset/7/01358_00001.ppm\n",
      "./dataset/7/01366_00000.ppm\n",
      "./dataset/7/01366_00001.ppm\n",
      "./dataset/7/01366_00002.ppm\n",
      "./dataset/7/01372_00000.ppm\n",
      "./dataset/7/01372_00001.ppm\n",
      "./dataset/7/01375_00000.ppm\n",
      "./dataset/7/01375_00001.ppm\n",
      "./dataset/7/01399_00000.ppm\n",
      "./dataset/7/01399_00001.ppm\n",
      "./dataset/7/01399_00002.ppm\n",
      "./dataset/7/01456_00000.ppm\n",
      "./dataset/7/01456_00001.ppm\n",
      "./dataset/7/01675_00000.ppm\n",
      "./dataset/7/01675_00001.ppm\n",
      "./dataset/7/01675_00002.ppm\n",
      "./dataset/7/01678_00000.ppm\n",
      "./dataset/7/01678_00001.ppm\n",
      "./dataset/7/01678_00002.ppm\n",
      "./dataset/7/01690_00000.ppm\n",
      "./dataset/7/01690_00001.ppm\n",
      "./dataset/7/01690_00002.ppm\n",
      "./dataset/7/01708_00000.ppm\n",
      "./dataset/7/01708_00001.ppm\n",
      "./dataset/7/01708_00002.ppm\n",
      "./dataset/7/01726_00000.ppm\n",
      "./dataset/7/01726_00001.ppm\n",
      "./dataset/7/01726_00002.ppm\n",
      "./dataset/7/01806_00000.ppm\n",
      "./dataset/7/01806_00001.ppm\n",
      "./dataset/7/01806_00002.ppm\n",
      "./dataset/7/01896_00000.ppm\n",
      "./dataset/7/01896_00001.ppm\n",
      "./dataset/7/01896_00002.ppm\n",
      "./dataset/7/01896_00004.ppm\n",
      "./dataset/7/01897_00000.ppm\n",
      "./dataset/7/01897_00001.ppm\n",
      "./dataset/7/01897_00002.ppm\n",
      "./dataset/7/01901_00000.ppm\n",
      "./dataset/7/01901_00001.ppm\n",
      "./dataset/7/01901_00002.ppm\n",
      "./dataset/7/01904_00000.ppm\n",
      "./dataset/7/01904_00001.ppm\n",
      "./dataset/7/01904_00002.ppm\n",
      "./dataset/8/00004_00000.ppm\n",
      "./dataset/8/00004_00001.ppm\n",
      "./dataset/8/00049_00000.ppm\n",
      "./dataset/8/00049_00001.ppm\n",
      "./dataset/8/00049_00002.ppm\n",
      "./dataset/8/00059_00000.ppm\n",
      "./dataset/8/00059_00001.ppm\n",
      "./dataset/8/00061_00000.ppm\n",
      "./dataset/8/00061_00001.ppm\n",
      "./dataset/8/00061_00002.ppm\n",
      "./dataset/8/00067_00000.ppm\n",
      "./dataset/8/00067_00001.ppm\n",
      "./dataset/8/00067_00002.ppm\n",
      "./dataset/8/00075_00000.ppm\n",
      "./dataset/8/00075_00001.ppm\n",
      "./dataset/8/00075_00002.ppm\n",
      "./dataset/8/00171_00001.ppm\n",
      "./dataset/8/00171_00002.ppm\n",
      "./dataset/8/00392_00000.ppm\n",
      "./dataset/8/00392_00001.ppm\n",
      "./dataset/8/00392_00002.ppm\n",
      "./dataset/8/00393_00000.ppm\n",
      "./dataset/8/00393_00001.ppm\n",
      "./dataset/8/00393_00002.ppm\n",
      "./dataset/8/00395_00000.ppm\n",
      "./dataset/8/00395_00002.ppm\n",
      "./dataset/8/00406_00000.ppm\n",
      "./dataset/8/00406_00001.ppm\n",
      "./dataset/8/00406_00002.ppm\n",
      "./dataset/8/00416_00000.ppm\n",
      "./dataset/8/00418_00000.ppm\n",
      "./dataset/8/00418_00001.ppm\n",
      "./dataset/8/00418_00002.ppm\n",
      "./dataset/8/00434_00001.ppm\n",
      "./dataset/8/00438_00001.ppm\n",
      "./dataset/8/00452_00000.ppm\n",
      "./dataset/8/00452_00001.ppm\n",
      "./dataset/8/00452_00002.ppm\n",
      "./dataset/8/00453_00000.ppm\n",
      "./dataset/8/00453_00001.ppm\n",
      "./dataset/8/00462_00000.ppm\n",
      "./dataset/8/00462_00001.ppm\n",
      "./dataset/8/00462_00002.ppm\n",
      "./dataset/8/00463_00000.ppm\n",
      "./dataset/8/00463_00001.ppm\n",
      "./dataset/8/00463_00002.ppm\n",
      "./dataset/8/00466_00000.ppm\n",
      "./dataset/8/00466_00001.ppm\n",
      "./dataset/8/00466_00002.ppm\n",
      "./dataset/8/00653_00000.ppm\n",
      "./dataset/8/00653_00001.ppm\n",
      "./dataset/8/00653_00002.ppm\n",
      "./dataset/8/00655_00000.ppm\n",
      "./dataset/8/00655_00001.ppm\n",
      "./dataset/8/00655_00002.ppm\n",
      "./dataset/8/00686_00002.ppm\n",
      "./dataset/8/00694_00000.ppm\n",
      "./dataset/8/00694_00001.ppm\n",
      "./dataset/8/00694_00002.ppm\n",
      "./dataset/8/00714_00000.ppm\n",
      "./dataset/8/00714_00001.ppm\n",
      "./dataset/8/00740_00000.ppm\n",
      "./dataset/8/00740_00001.ppm\n",
      "./dataset/8/00740_00002.ppm\n",
      "./dataset/8/00751_00000.ppm\n",
      "./dataset/8/00751_00002.ppm\n",
      "./dataset/8/00764_00000.ppm\n",
      "./dataset/8/00764_00001.ppm\n",
      "./dataset/8/00764_00002.ppm\n",
      "./dataset/8/00772_00000.ppm\n",
      "./dataset/8/00772_00001.ppm\n",
      "./dataset/8/00772_00002.ppm\n",
      "./dataset/8/00774_00000.ppm\n",
      "./dataset/8/00774_00001.ppm\n",
      "./dataset/8/00796_00000.ppm\n",
      "./dataset/8/00796_00001.ppm\n",
      "./dataset/8/00796_00002.ppm\n",
      "./dataset/8/00822_00000.ppm\n",
      "./dataset/8/00861_00000.ppm\n",
      "./dataset/8/00861_00001.ppm\n",
      "./dataset/8/00862_00000.ppm\n",
      "./dataset/8/00862_00001.ppm\n",
      "./dataset/8/00862_00002.ppm\n",
      "./dataset/8/00904_00000.ppm\n",
      "./dataset/8/01000_00002.ppm\n",
      "./dataset/8/01029_00001.ppm\n",
      "./dataset/8/01029_00002.ppm\n",
      "./dataset/8/01129_00000.ppm\n",
      "./dataset/8/01919_00001.ppm\n",
      "./dataset/8/01919_00002.ppm\n",
      "./dataset/8/01953_00000.ppm\n",
      "./dataset/8/01953_00001.ppm\n",
      "./dataset/8/01953_00002.ppm\n",
      "./dataset/8/01954_00001.ppm\n",
      "./dataset/8/01954_00002.ppm\n",
      "./dataset/8/01961_00000.ppm\n",
      "./dataset/8/01961_00001.ppm\n",
      "./dataset/8/01961_00002.ppm\n",
      "./dataset/8/01963_00000.ppm\n",
      "./dataset/8/01963_00001.ppm\n",
      "./dataset/9/00622_00000.ppm\n",
      "./dataset/9/00622_00001.ppm\n",
      "./dataset/9/00622_00002.ppm\n",
      "./dataset/9/00628_00000.ppm\n",
      "./dataset/9/00628_00001.ppm\n",
      "./dataset/9/00628_00002.ppm\n",
      "./dataset/9/00629_00000.ppm\n",
      "./dataset/9/00629_00001.ppm\n",
      "./dataset/9/00629_00002.ppm\n",
      "./dataset/9/00640_00000.ppm\n",
      "./dataset/9/00640_00001.ppm\n",
      "./dataset/9/00640_00002.ppm\n",
      "./dataset/9/00643_00000.ppm\n",
      "./dataset/9/00643_00001.ppm\n",
      "./dataset/9/00643_00002.ppm\n",
      "./dataset/9/00648_00000.ppm\n",
      "./dataset/9/00648_00001.ppm\n",
      "./dataset/9/00648_00002.ppm\n",
      "./dataset/9/00651_00000.ppm\n",
      "./dataset/9/00651_00001.ppm\n",
      "./dataset/9/00651_00002.ppm\n",
      "./dataset/9/00678_00000.ppm\n",
      "./dataset/9/00678_00001.ppm\n",
      "./dataset/9/00678_00002.ppm\n",
      "./dataset/9/00923_00000.ppm\n",
      "./dataset/9/00923_00001.ppm\n",
      "./dataset/9/00923_00002.ppm\n",
      "./dataset/9/00924_00000.ppm\n",
      "./dataset/9/00924_00001.ppm\n",
      "./dataset/9/00924_00002.ppm\n",
      "./dataset/9/00934_00000.ppm\n",
      "./dataset/9/00934_00001.ppm\n",
      "./dataset/9/00934_00002.ppm\n",
      "./dataset/9/00940_00000.ppm\n",
      "./dataset/9/00940_00001.ppm\n",
      "./dataset/9/00940_00002.ppm\n",
      "./dataset/9/00955_00000.ppm\n",
      "./dataset/9/00955_00001.ppm\n",
      "./dataset/9/00955_00002.ppm\n",
      "./dataset/9/00958_00001.ppm\n",
      "./dataset/9/00958_00002.ppm\n",
      "./dataset/9/00962_00000.ppm\n",
      "./dataset/9/01005_00002.ppm\n",
      "./dataset/9/01011_00000.ppm\n",
      "./dataset/9/01011_00001.ppm\n",
      "./dataset/9/01011_00002.ppm\n",
      "./dataset/9/01037_00000.ppm\n",
      "./dataset/9/01037_00001.ppm\n",
      "./dataset/9/01037_00002.ppm\n",
      "./dataset/9/01098_00000.ppm\n",
      "./dataset/9/01098_00001.ppm\n",
      "./dataset/9/01098_00002.ppm\n",
      "./dataset/9/01100_00000.ppm\n",
      "./dataset/9/01100_00001.ppm\n",
      "./dataset/9/01100_00002.ppm\n",
      "./dataset/9/01100_00003.ppm\n",
      "./dataset/9/01104_00000.ppm\n",
      "./dataset/9/01104_00001.ppm\n",
      "./dataset/9/01104_00002.ppm\n",
      "./dataset/9/01235_00000.ppm\n",
      "./dataset/9/01235_00001.ppm\n",
      "./dataset/9/01235_00002.ppm\n",
      "./dataset/9/01242_00000.ppm\n",
      "./dataset/9/01242_00001.ppm\n",
      "./dataset/9/01242_00002.ppm\n",
      "./dataset/9/01261_00000.ppm\n",
      "./dataset/9/01261_00001.ppm\n",
      "./dataset/9/01777_00001.ppm\n",
      "./dataset/9/01777_00002.ppm\n",
      "./dataset/9/01838_00000.ppm\n",
      "./dataset/9/01838_00001.ppm\n",
      "./dataset/9/01861_00001.ppm\n",
      "./dataset/9/01862_00001.ppm\n",
      "./dataset/9/01862_00002.ppm\n",
      "./dataset/9/01863_00000.ppm\n",
      "./dataset/9/01863_00001.ppm\n",
      "./dataset/9/01863_00002.ppm\n",
      "./dataset/9/01864_00000.ppm\n",
      "./dataset/9/01864_00001.ppm\n",
      "./dataset/9/01864_00002.ppm\n",
      "./dataset/9/01870_00001.ppm\n",
      "./dataset/9/01870_00002.ppm\n",
      "./dataset/9/01871_00000.ppm\n",
      "./dataset/9/01871_00001.ppm\n",
      "./dataset/9/01871_00002.ppm\n",
      "./dataset/9/01883_00000.ppm\n",
      "./dataset/9/01883_00001.ppm\n",
      "./dataset/9/01883_00002.ppm\n",
      "./dataset/9/01894_00000.ppm\n",
      "./dataset/9/01894_00001.ppm\n",
      "./dataset/9/01909_00000.ppm\n",
      "./dataset/9/01909_00002.ppm\n",
      "./dataset/9/01910_00001.ppm\n",
      "./dataset/9/01910_00002.ppm\n",
      "./dataset/9/01929_00000.ppm\n",
      "./dataset/9/01929_00001.ppm\n",
      "./dataset/9/01929_00002.ppm\n",
      "./dataset/9/01935_00000.ppm\n",
      "./dataset/9/01935_00001.ppm\n",
      "./dataset/9/01935_00002.ppm\n"
     ]
    }
   ],
   "source": [
    " data, labels = load_traffic_dataset()"
   ]
  },
  {
   "cell_type": "markdown",
   "metadata": {},
   "source": [
    "# Data Preprocessing"
   ]
  },
  {
   "cell_type": "code",
   "execution_count": 23,
   "metadata": {},
   "outputs": [
    {
     "name": "stdout",
     "output_type": "stream",
     "text": [
      "(1000, 32, 32)\n"
     ]
    }
   ],
   "source": [
    "print(data.shape)  "
   ]
  },
  {
   "cell_type": "markdown",
   "metadata": {},
   "source": [
    "## Visualizing data"
   ]
  },
  {
   "cell_type": "code",
   "execution_count": 38,
   "metadata": {},
   "outputs": [
    {
     "name": "stdout",
     "output_type": "stream",
     "text": [
      "Label: [6 4 1 9 3 4 8 8 7 3]\n"
     ]
    },
    {
     "data": {
      "image/png": "[encoded data removed]",
      "text/plain": [
       "<Figure size 432x288 with 10 Axes>"
      ]
     },
     "metadata": {
      "needs_background": "light"
     },
     "output_type": "display_data"
    }
   ],
   "source": [
    "for i in range(10):\n",
    "    plt.subplot(5,10,i+1)\n",
    "    plt.imshow(data[i])\n",
    "    plt.axis('off')\n",
    "#plt.show()\n",
    "print('Label: %s' % (labels[10:20],))\n"
   ]
  },
  {
   "cell_type": "markdown",
   "metadata": {},
   "source": [
    "## Splitting the dataset"
   ]
  },
  {
   "cell_type": "code",
   "execution_count": 40,
   "metadata": {},
   "outputs": [
    {
     "name": "stdout",
     "output_type": "stream",
     "text": [
      "Spliting data into training (80%) and test set (20%)... \n"
     ]
    }
   ],
   "source": [
    "print('Spliting data into training (80%) and test set (20%)... ')\n",
    "train_n=int(0.8*len(data))\n",
    "data_train, data_test = np.split(data, [train_n])\n",
    "train, test = np.split(data, [train_n])\n",
    "labels_train, labels_test = np.split(labels, [train_n])"
   ]
  },
  {
   "cell_type": "code",
   "execution_count": 41,
   "metadata": {},
   "outputs": [
    {
     "data": {
      "text/plain": [
       "800"
      ]
     },
     "execution_count": 41,
     "metadata": {},
     "output_type": "execute_result"
    }
   ],
   "source": [
    "len(train)"
   ]
  },
  {
   "cell_type": "code",
   "execution_count": 42,
   "metadata": {},
   "outputs": [
    {
     "data": {
      "text/plain": [
       "200"
      ]
     },
     "execution_count": 42,
     "metadata": {},
     "output_type": "execute_result"
    }
   ],
   "source": [
    "len(test)"
   ]
  },
  {
   "cell_type": "markdown",
   "metadata": {},
   "source": [
    "## Feature Engineering"
   ]
  },
  {
   "cell_type": "code",
   "execution_count": 50,
   "metadata": {},
   "outputs": [
    {
     "data": {
      "application/vnd.jupyter.widget-view+json": {
       "model_id": "",
       "version_major": 2,
       "version_minor": 0
      },
      "text/plain": [
       "HBox(children=(FloatProgress(value=0.0, max=800.0), HTML(value='')))"
      ]
     },
     "metadata": {},
     "output_type": "display_data"
    },
    {
     "name": "stdout",
     "output_type": "stream",
     "text": [
      "\n"
     ]
    }
   ],
   "source": [
    "\n",
    "train_data = []\n",
    "\n",
    "train_img_count = len(labels_train)\n",
    "\n",
    "def get_hog(image):\n",
    "  (H1, hogImage1) = feature.hog(image, orientations = 3,\n",
    "                                pixels_per_cell  = (2, 2), cells_per_block  = (2, 2), transform_sqrt=True,\n",
    "                                block_norm  = 'L1' , visualize=True)\n",
    "  return (H1, hogImage1)\n",
    "\n",
    "\n",
    "# loop over the images\n",
    "for i in tqdm(range(0,train_img_count)):\n",
    "  # Computing the HOG features\n",
    "  (h_vector, h_image) = get_hog(train[i])\n",
    "  #append computed HOGs in train data\n",
    "  train_data.append(h_vector)\n",
    "\n",
    "train_label = labels_train[0:train_img_count]"
   ]
  },
  {
   "cell_type": "markdown",
   "metadata": {},
   "source": [
    "## Visualizing HOG "
   ]
  },
  {
   "cell_type": "code",
   "execution_count": null,
   "metadata": {},
   "outputs": [],
   "source": [
    "plt.figure(figsize=(figure_size,figure_size))\n",
    "plt.subplot(1,2,1),plt.imshow(img)\n",
    "plt.title('Original Image'), plt.xticks([]), plt.yticks([])\n",
    "plt.subplot(1,2,2),plt.imshow(edges,cmap = 'gray')\n",
    "plt.title('Edge Image'), plt.xticks([]), plt.yticks([])\n",
    "plt.show()"
   ]
  },
  {
   "cell_type": "code",
   "execution_count": 206,
   "metadata": {},
   "outputs": [
    {
     "data": {
      "image/png": "[encoded data removed]",
      "text/plain": [
       "<Figure size 576x288 with 2 Axes>"
      ]
     },
     "metadata": {
      "needs_background": "light"
     },
     "output_type": "display_data"
    }
   ],
   "source": [
    "fig, (ax1, ax2) = plt.subplots(1, 2, figsize=(8, 4), sharex=True, sharey=True)\n",
    "\n",
    "ax1.axis('off')\n",
    "ax1.imshow(train[i], cmap=plt.cm.gray) #i==499\n",
    "ax1.set_title('Input image')\n",
    "\n",
    "# Rescale histogram for better display\n",
    "hog_image_rescaled = exposure.rescale_intensity(h_image, in_range=(0, 255))\n",
    "\n",
    "ax2.axis('off')\n",
    "ax2.imshow(hog_image_rescaled)\n",
    "ax2.set_title('Histogram of Oriented Gradients')\n",
    "plt.show()\n"
   ]
  },
  {
   "cell_type": "markdown",
   "metadata": {},
   "source": [
    "# Model training"
   ]
  },
  {
   "cell_type": "code",
   "execution_count": 52,
   "metadata": {},
   "outputs": [],
   "source": [
    "from sklearn.linear_model import LogisticRegression\n",
    "model = LogisticRegression(solver='liblinear',multi_class='auto')\n",
    "\n"
   ]
  },
  {
   "cell_type": "code",
   "execution_count": 53,
   "metadata": {},
   "outputs": [
    {
     "name": "stdout",
     "output_type": "stream",
     "text": [
      "Logistic Regression training completed\n"
     ]
    }
   ],
   "source": [
    "model.fit(train_data, train_label)\n",
    "print(\"Logistic Regression training completed\")\n"
   ]
  },
  {
   "cell_type": "markdown",
   "metadata": {},
   "source": [
    "## Getting HOG vectors for test data"
   ]
  },
  {
   "cell_type": "code",
   "execution_count": 54,
   "metadata": {},
   "outputs": [
    {
     "data": {
      "application/vnd.jupyter.widget-view+json": {
       "model_id": "353ad09892724ef699a04f1cbb9384c8",
       "version_major": 2,
       "version_minor": 0
      },
      "text/plain": [
       "HBox(children=(FloatProgress(value=0.0, max=200.0), HTML(value='')))"
      ]
     },
     "metadata": {},
     "output_type": "display_data"
    },
    {
     "name": "stdout",
     "output_type": "stream",
     "text": [
      "\n"
     ]
    }
   ],
   "source": [
    "from tqdm.notebook import tqdm\n",
    "test_data = []\n",
    "test_img_count = len(labels_test)\n",
    "\n",
    "# loop over the images\n",
    "for i in tqdm(range(test_img_count)):\n",
    "   (h_vector, h_image) = get_hog(test[i])\n",
    "\n",
    "  test_data.append(h_vector)\n",
    "\n",
    "#get labels\n",
    "test_labels = labels_test[0:test_img_count]"
   ]
  },
  {
   "cell_type": "markdown",
   "metadata": {},
   "source": [
    "## Getting predictions"
   ]
  },
  {
   "cell_type": "code",
   "execution_count": 55,
   "metadata": {},
   "outputs": [
    {
     "name": "stdout",
     "output_type": "stream",
     "text": [
      "Prediction completed\n",
      "Comparing predicted and actual labels\n",
      "[9 5 2 4 3 7 6 5 3 8]\n",
      "[9 5 2 4 3 7 6 5 3 8]\n"
     ]
    }
   ],
   "source": [
    "# Create predictions\n",
    "predicted_labels = model.predict(test_data)\n",
    "print(\"Prediction completed\")\n",
    "# uncomment below lines to get the predicted labesl and the actural labels printed.\n",
    "print(\"Comparing predicted and actual labels\")\n",
    "print(predicted_labels[0:10])\n",
    "print(test_labels[0:10])"
   ]
  },
  {
   "cell_type": "markdown",
   "metadata": {},
   "source": [
    "# Results"
   ]
  },
  {
   "cell_type": "markdown",
   "metadata": {},
   "source": [
    "## Confusion Matrix"
   ]
  },
  {
   "cell_type": "code",
   "execution_count": 174,
   "metadata": {},
   "outputs": [
    {
     "name": "stdout",
     "output_type": "stream",
     "text": [
      "Confusion matrix:\n",
      "Predicted   0   1   2   3   4   5   6   7   8   9  All\n",
      "Actual                                                \n",
      "0          23   0   0   0   0   0   0   0   0   0   23\n",
      "1           0  10   0   0   0   0   0   0   0   0   10\n",
      "2           0   0  16   0   0   0   0   0   0   0   16\n",
      "3           0   0   0  24   0   0   0   0   0   0   24\n",
      "4           0   0   0   0  22   0   0   0   0   0   22\n",
      "5           0   0   0   0   0  20   0   0   0   0   20\n",
      "6           0   0   0   0   0   0  23   0   0   0   23\n",
      "7           0   0   0   0   0   0   0  25   0   0   25\n",
      "8           0   0   0   0   0   0   0   0  16   0   16\n",
      "9           0   0   0   0   0   0   0   0   0  21   21\n",
      "All        23  10  16  24  22  20  23  25  16  21  200\n"
     ]
    }
   ],
   "source": [
    "act = pd.Series(test_labels,name='Actual')\n",
    "pred = pd.Series(model.predict(test_data),name='Predicted')\n",
    "confusion_matrix = pd.crosstab(act, pred,margins=True)\n",
    "print(\"Confusion matrix:\\n%s\" % confusion_matrix)"
   ]
  },
  {
   "cell_type": "code",
   "execution_count": 175,
   "metadata": {},
   "outputs": [
    {
     "data": {
      "image/png": "[encoded data removed]",
      "text/plain": [
       "<Figure size 288x288 with 2 Axes>"
      ]
     },
     "metadata": {
      "needs_background": "light"
     },
     "output_type": "display_data"
    }
   ],
   "source": [
    "def plot_confusion_matrix(df_confusion, title='Confusion matrix', cmap=plt.cm.YlOrRd):\n",
    "  plt.matshow(df_confusion, cmap=cmap) # imshow\n",
    "  plt.colorbar()\n",
    "  tick_marks = np.arange(len(df_confusion.columns))\n",
    "  plt.xticks(tick_marks, df_confusion.columns, rotation=45)\n",
    "  plt.yticks(tick_marks, df_confusion.index)\n",
    "  plt.ylabel(df_confusion.index.name)\n",
    "  plt.xlabel(df_confusion.columns.name)\n",
    "#call function\n",
    "plot_confusion_matrix(confusion_matrix)"
   ]
  },
  {
   "cell_type": "code",
   "execution_count": 58,
   "metadata": {},
   "outputs": [
    {
     "name": "stdout",
     "output_type": "stream",
     "text": [
      "100.0\n"
     ]
    }
   ],
   "source": [
    "mask = predicted_labels==test_labels\n",
    "correct = np.count_nonzero(mask)\n",
    "print (correct*100.0/predicted_labels.size)\n",
    "result = predicted_labels.astype(int)"
   ]
  },
  {
   "cell_type": "code",
   "execution_count": 195,
   "metadata": {},
   "outputs": [],
   "source": [
    "# Classification Report\n",
    "#I have taken class 10 as 0"
   ]
  },
  {
   "cell_type": "code",
   "execution_count": 194,
   "metadata": {},
   "outputs": [
    {
     "name": "stdout",
     "output_type": "stream",
     "text": [
      "              precision    recall  f1-score   support\n",
      "\n",
      "           0       1.00      1.00      1.00        23\n",
      "           1       1.00      1.00      1.00        10\n",
      "           2       1.00      1.00      1.00        16\n",
      "           3       1.00      1.00      1.00        24\n",
      "           4       1.00      1.00      1.00        22\n",
      "           5       1.00      1.00      1.00        20\n",
      "           6       1.00      1.00      1.00        23\n",
      "           7       1.00      1.00      1.00        25\n",
      "           8       1.00      1.00      1.00        16\n",
      "           9       1.00      1.00      1.00        21\n",
      "\n",
      "    accuracy                           1.00       200\n",
      "   macro avg       1.00      1.00      1.00       200\n",
      "weighted avg       1.00      1.00      1.00       200\n",
      "\n"
     ]
    }
   ],
   "source": [
    "from sklearn.metrics import classification_report\n",
    "print(classification_report(test_labels, predicted_labels, target_names=[\"0\",\"1\",\"2\",\"3\",\"4\",\"5\",\"6\",\"7\",\"8\",\"9\"]))"
   ]
  },
  {
   "cell_type": "markdown",
   "metadata": {},
   "source": [
    "## Quantitative Result"
   ]
  },
  {
   "cell_type": "code",
   "execution_count": 192,
   "metadata": {},
   "outputs": [
    {
     "name": "stdout",
     "output_type": "stream",
     "text": [
      "      Actual Label = 4               Predicted Label = 4\n"
     ]
    },
    {
     "data": {
      "image/png": "[encoded data removed]",
      "text/plain": [
       "<Figure size 576x288 with 2 Axes>"
      ]
     },
     "metadata": {
      "needs_background": "light"
     },
     "output_type": "display_data"
    }
   ],
   "source": [
    "# set index out of 10000 test images\n",
    "index = 20\n",
    "#get image\n",
    "image = test[index]\n",
    "\n",
    "#compute hog feature vector for above image\n",
    "(h_vector, h_image) = get_hog(image)\n",
    "obtained_label = model.predict([h_vector])\n",
    "\n",
    "#comparison\n",
    "print(\"      Actual Label = \" + str(test_labels[index])+\"               Predicted Label = \"+ str(obtained_label[0]))\n",
    "\n",
    "\n",
    "\n",
    "#visualize\n",
    "figr, (ax1, ax2) = plt.subplots(1, 2, figsize=(8, 4), sharex=True, sharey=True)\n",
    "ax1.axis('off')\n",
    "ax1.imshow(image, cmap=\"gray\")\n",
    "ax1.set_title('Input image')\n",
    "ax2.axis('off')\n",
    "ax2.imshow(h_image,cmap=plt.cm.gray)\n",
    "ax2.set_title('Histogram of Oriented Gradients')\n",
    "plt.show()"
   ]
  },
  {
   "cell_type": "markdown",
   "metadata": {},
   "source": [
    "# Unsupervised Learning"
   ]
  },
  {
   "cell_type": "code",
   "execution_count": 118,
   "metadata": {},
   "outputs": [],
   "source": [
    "\n",
    "total_clusters = 10\n",
    "# Initialize the K-Means model\n",
    "kmeans = MiniBatchKMeans(n_clusters = total_clusters)"
   ]
  },
  {
   "cell_type": "markdown",
   "metadata": {},
   "source": [
    "# Fitting Kmeans"
   ]
  },
  {
   "cell_type": "code",
   "execution_count": 119,
   "metadata": {},
   "outputs": [],
   "source": [
    "# do clustering\n",
    "kmeans.fit(train_data)\n",
    "# save results\n",
    "#loaded_model = pickle.load(open('kmeans', 'rb'))\n",
    "#result = loaded_model.score(X_test, Y_test\n",
    "unsup_labels_train= kmeans.labels_"
   ]
  },
  {
   "cell_type": "markdown",
   "metadata": {},
   "source": [
    "## Getting predictions"
   ]
  },
  {
   "cell_type": "code",
   "execution_count": 120,
   "metadata": {},
   "outputs": [
    {
     "name": "stdout",
     "output_type": "stream",
     "text": [
      "Prediction completed\n",
      "Comparing predicted and actual labels\n",
      "[9 4 2 1 2 6 7 4 2 3]\n",
      "[9 5 2 4 3 7 6 5 3 8]\n"
     ]
    }
   ],
   "source": [
    "# Create predictions\n",
    "unsup_predicted_labels = kmeans.predict(test_data)\n",
    "print(\"Prediction completed\")\n",
    "# uncomment below lines to get the predicted labesl and the actural labels printed.\n",
    "print(\"Comparing predicted and actual labels\")\n",
    "print(unsup_predicted_labels[0:10])\n",
    "print(test_labels[0:10])"
   ]
  },
  {
   "cell_type": "code",
   "execution_count": 121,
   "metadata": {},
   "outputs": [
    {
     "name": "stdout",
     "output_type": "stream",
     "text": [
      "30.0\n"
     ]
    }
   ],
   "source": [
    "unsup_mask = unsup_predicted_labels==test_labels\n",
    "unsup_correct = np.count_nonzero(unsup_mask)\n",
    "print (unsup_correct*100.0/unsup_predicted_labels.size)\n",
    "unsup_result = unsup_predicted_labels.astype(int)"
   ]
  },
  {
   "cell_type": "markdown",
   "metadata": {},
   "source": [
    "## Quantitative Result"
   ]
  },
  {
   "cell_type": "markdown",
   "metadata": {},
   "source": [
    "### Case 1"
   ]
  },
  {
   "cell_type": "code",
   "execution_count": 203,
   "metadata": {},
   "outputs": [
    {
     "name": "stdout",
     "output_type": "stream",
     "text": [
      "      Actual Label = 4               Predicted Label = 1\n"
     ]
    },
    {
     "data": {
      "image/png": "[encoded data removed]",
      "text/plain": [
       "<Figure size 576x288 with 2 Axes>"
      ]
     },
     "metadata": {
      "needs_background": "light"
     },
     "output_type": "display_data"
    }
   ],
   "source": [
    "# set index out of 10000 test images\n",
    "index = 20\n",
    "#get image\n",
    "image = test[index]\n",
    "\n",
    "#compute hog feature vector for above image\n",
    "(h_vector, h_image) = get_hog(image)\n",
    "obtained_label = kmeans.predict([h_vector])\n",
    "\n",
    "#comparison\n",
    "print(\"      Actual Label = \"+str(test_labels[index])+\"               Predicted Label = \"+str(obtained_label[0]) )\n",
    "\n",
    "\n",
    "#visualize\n",
    "figr, (ax1, ax2) = plt.subplots(1, 2, figsize=(8, 4), sharex=True, sharey=True)\n",
    "ax1.axis('off')\n",
    "ax1.imshow(image, cmap=\"gray\")\n",
    "ax1.set_title('Input image')\n",
    "ax2.axis('off')\n",
    "ax2.imshow(h_image,cmap=plt.cm.gray)\n",
    "ax2.set_title('Histogram of Oriented Gradients')\n",
    "plt.show()"
   ]
  },
  {
   "cell_type": "code",
   "execution_count": 204,
   "metadata": {},
   "outputs": [
    {
     "name": "stdout",
     "output_type": "stream",
     "text": [
      "Histogram for label '1' is similar to that of label '4' (predicted above)\n"
     ]
    },
    {
     "data": {
      "image/png": "[encoded data removed]",
      "text/plain": [
       "<Figure size 576x288 with 2 Axes>"
      ]
     },
     "metadata": {
      "needs_background": "light"
     },
     "output_type": "display_data"
    }
   ],
   "source": [
    "# set index out of 10000 test images\n",
    "index =46\n",
    "#get image\n",
    "image = test[index]\n",
    "\n",
    "#compute hog feature vector for above image\n",
    "(h_vector, h_image) = get_hog(image)\n",
    "obtained_label = kmeans.predict([h_vector])\n",
    "\n",
    "#comparison\n",
    "print(\"Histogram for label '1' is similar to that of label '4' (predicted above)\")\n",
    "\n",
    "\n",
    "#visualize\n",
    "figr, (ax1, ax2) = plt.subplots(1, 2, figsize=(8, 4), sharex=True, sharey=True)\n",
    "ax1.axis('off')\n",
    "ax1.imshow(image, cmap=\"gray\")\n",
    "ax1.set_title('Output image')\n",
    "ax2.axis('off')\n",
    "ax2.imshow(h_image,cmap=plt.cm.gray)\n",
    "ax2.set_title('Histogram of Oriented Gradients')\n",
    "plt.show()"
   ]
  },
  {
   "cell_type": "markdown",
   "metadata": {},
   "source": [
    "### Case 2"
   ]
  },
  {
   "cell_type": "code",
   "execution_count": 125,
   "metadata": {},
   "outputs": [
    {
     "name": "stdout",
     "output_type": "stream",
     "text": [
      "Actual Label =\n",
      "9\n",
      "Predicted Label =\n",
      "9\n"
     ]
    },
    {
     "data": {
      "image/png": "[encoded data removed]",
      "text/plain": [
       "<Figure size 576x288 with 2 Axes>"
      ]
     },
     "metadata": {
      "needs_background": "light"
     },
     "output_type": "display_data"
    }
   ],
   "source": [
    "# set index out of 10000 test images\n",
    "index = 0\n",
    "#get image\n",
    "image = test[index]\n",
    "\n",
    "#compute hog feature vector for above image\n",
    "(h_vector, h_image) = get_hog(image)\n",
    "obtained_label = kmeans.predict([h_vector])\n",
    "\n",
    "#comparison\n",
    "print(\"Actual Label =\")\n",
    "print(test_labels[index])\n",
    "print(\"Predicted Label =\")\n",
    "print(obtained_label[0])\n",
    "\n",
    "#visualize\n",
    "figr, (ax1, ax2) = plt.subplots(1, 2, figsize=(8, 4), sharex=True, sharey=True)\n",
    "ax1.axis('off')\n",
    "ax1.imshow(image, cmap=\"gray\")\n",
    "ax1.set_title('Input image')\n",
    "ax2.axis('off')\n",
    "ax2.imshow(h_image,cmap=plt.cm.gray)\n",
    "ax2.set_title('Histogram of Oriented Gradients')\n",
    "plt.show()"
   ]
  },
  {
   "cell_type": "markdown",
   "metadata": {},
   "source": [
    "## Cluster Visualization"
   ]
  },
  {
   "cell_type": "code",
   "execution_count": 146,
   "metadata": {},
   "outputs": [],
   "source": [
    "centroids = kmeans.cluster_centers_"
   ]
  },
  {
   "cell_type": "code",
   "execution_count": 159,
   "metadata": {},
   "outputs": [],
   "source": [
    "centroids_x = centroids[:,0]\n",
    "centroids_y = centroids[:,1]"
   ]
  },
  {
   "cell_type": "code",
   "execution_count": 171,
   "metadata": {},
   "outputs": [],
   "source": [
    "# it shows centroids defined are not very distant from each other, \n",
    "# as the accuracy shows that unsupervised learning has not performed well"
   ]
  },
  {
   "cell_type": "code",
   "execution_count": 205,
   "metadata": {},
   "outputs": [
    {
     "data": {
      "text/plain": [
       "Text(0, 0.5, 'centroids-y')"
      ]
     },
     "execution_count": 205,
     "metadata": {},
     "output_type": "execute_result"
    },
    {
     "data": {
      "image/png": "[encoded data removed]",
      "text/plain": [
       "<Figure size 432x288 with 1 Axes>"
      ]
     },
     "metadata": {
      "needs_background": "light"
     },
     "output_type": "display_data"
    }
   ],
   "source": [
    "plt.scatter(centroids_x,centroids_y,marker = \"x\", s=150,linewidths = 5, zorder = 10, c=['green', 'red','blue','orange','yellow','cyan','magenta','grey','olive','pink'])\n",
    "plt.xlabel(\"centroids-x\")\n",
    "plt.ylabel(\"centroids-y\")"
   ]
  },
  {
   "cell_type": "code",
   "execution_count": null,
   "metadata": {},
   "outputs": [],
   "source": []
  }
 ],
 "metadata": {
  "kernelspec": {
   "display_name": "Python 3",
   "language": "python",
   "name": "python3"
  },
  "language_info": {
   "codemirror_mode": {
    "name": "ipython",
    "version": 3
   },
   "file_extension": ".py",
   "mimetype": "text/x-python",
   "name": "python",
   "nbconvert_exporter": "python",
   "pygments_lexer": "ipython3",
   "version": "3.8.3"
  }
 },
 "nbformat": 4,
 "nbformat_minor": 4
}
